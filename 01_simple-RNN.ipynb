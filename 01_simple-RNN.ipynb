{
 "cells": [
  {
   "cell_type": "code",
   "execution_count": 2,
   "metadata": {},
   "outputs": [],
   "source": [
    "#SimpleRNN\n",
    "#https://github.com/Alireza-Akhavan/rnn-notebooks"
   ]
  },
  {
   "cell_type": "code",
   "execution_count": 3,
   "metadata": {},
   "outputs": [
    {
     "name": "stderr",
     "output_type": "stream",
     "text": [
      "C:\\Users\\User\\AppData\\Roaming\\Python\\Python38\\site-packages\\numpy\\_distributor_init.py:30: UserWarning: loaded more than 1 DLL from .libs:\n",
      "C:\\Users\\User\\AppData\\Roaming\\Python\\Python38\\site-packages\\numpy\\.libs\\libopenblas.jpijnswnnan3ce6lli5fwsphut2vxmth.gfortran-win_amd64.dll\n",
      "C:\\Users\\User\\AppData\\Roaming\\Python\\Python38\\site-packages\\numpy\\.libs\\libopenblas.WCDJNK7YVMPZQ2ME2ZZHJJRJ3JIKNDB7.gfortran-win_amd64.dll\n",
      "  warnings.warn(\"loaded more than 1 DLL from .libs:\"\n"
     ]
    }
   ],
   "source": [
    "import pandas as pd\n",
    "import numpy as np\n",
    "from keras.models import Sequential\n",
    "from keras.layers import Dense, SimpleRNN\n",
    "import matplotlib.pyplot as plt\n",
    "%matplotlib inline"
   ]
  },
  {
   "cell_type": "markdown",
   "metadata": {},
   "source": [
    "# "
   ]
  },
  {
   "cell_type": "code",
   "execution_count": 4,
   "metadata": {},
   "outputs": [
    {
     "data": {
      "image/png": "[encoded data removed]",
      "text/plain": [
       "<Figure size 432x288 with 1 Axes>"
      ]
     },
     "metadata": {
      "needs_background": "light"
     },
     "output_type": "display_data"
    }
   ],
   "source": [
    "t = np.arange(0,1500)\n",
    "x = np.sin(0.02*t)+ np.random.rand(1500) * 2\n",
    "plt.plot(x)\n",
    "plt.show()"
   ]
  },
  {
   "cell_type": "markdown",
   "metadata": {},
   "source": [
    "# "
   ]
  },
  {
   "cell_type": "code",
   "execution_count": 5,
   "metadata": {},
   "outputs": [],
   "source": [
    "train,test = x[0:1000], x[1000:]"
   ]
  },
  {
   "cell_type": "markdown",
   "metadata": {},
   "source": [
    "# \n",
    "\n",
    "    x = [1,2,3,4,5,6,7,8,9,10]\n",
    "    \n",
    "    for step=1, x input  and its y prediction becomes:\n",
    "    \n",
    "    x  y\n",
    "    1  2\n",
    "    2  3\n",
    "    3  4\n",
    "    4  5\n",
    "    ..\n",
    "    9  10\n",
    "    \n",
    "    for step=3, x and y contain:\n",
    "    \n",
    "    x         y\n",
    "    1,2,3     4\n",
    "    2,3,4     5\n",
    "    3,4,5     6\n",
    "    4,5,6     7\n",
    "    ...\n",
    "    7,8,9     10\n"
   ]
  },
  {
   "cell_type": "code",
   "execution_count": 6,
   "metadata": {},
   "outputs": [],
   "source": [
    "step = 10\n",
    "\n",
    "# convert into dataset data and label\n",
    "def convertToDataset(data, step):\n",
    "    #data = np.append(data,np.repeat(data[-1,],step))\n",
    "    X, Y =[], []\n",
    "    for i in range(len(data)-step):\n",
    "        d=i+step  \n",
    "        X.append(data[i:d,])\n",
    "        Y.append(data[d,])\n",
    "    return np.array(X), np.array(Y)\n",
    "\n",
    "trainX,trainY =convertToDataset(train,step)\n",
    "testX,testY =convertToDataset(test,step)"
   ]
  },
  {
   "cell_type": "code",
   "execution_count": 7,
   "metadata": {},
   "outputs": [
    {
     "name": "stdout",
     "output_type": "stream",
     "text": [
      "(990, 10)\n",
      "(490, 10)\n"
     ]
    }
   ],
   "source": [
    "print(trainX.shape)\n",
    "print(testX.shape)"
   ]
  },
  {
   "cell_type": "markdown",
   "metadata": {},
   "source": [
    "# \n",
    "</div>\n",
    "\n",
    "    (NumberOfSequences, TimeSteps, ElementsPerStep)"
   ]
  },
  {
   "cell_type": "code",
   "execution_count": 8,
   "metadata": {},
   "outputs": [],
   "source": [
    "trainX = np.reshape(trainX, (trainX.shape[0],  trainX.shape[1], 1))\n",
    "testX = np.reshape(testX, (testX.shape[0],testX.shape[1], 1))"
   ]
  },
  {
   "cell_type": "code",
   "execution_count": 9,
   "metadata": {},
   "outputs": [
    {
     "name": "stdout",
     "output_type": "stream",
     "text": [
      "(990, 10, 1)\n",
      "(490, 10, 1)\n"
     ]
    }
   ],
   "source": [
    "print(trainX.shape)\n",
    "print(testX.shape)"
   ]
  },
  {
   "cell_type": "markdown",
   "metadata": {},
   "source": [
    "# "
   ]
  },
  {
   "cell_type": "code",
   "execution_count": 10,
   "metadata": {},
   "outputs": [],
   "source": [
    "model = Sequential()\n",
    "model.add(SimpleRNN(units=64, activation=\"tanh\"))\n",
    "model.add(Dense(1))\n",
    "model.compile(loss='mean_squared_error', optimizer='rmsprop')"
   ]
  },
  {
   "cell_type": "markdown",
   "metadata": {},
   "source": [
    "model.summary() \n",
    "model.input"
   ]
  },
  {
   "cell_type": "markdown",
   "metadata": {},
   "source": [
    "# "
   ]
  },
  {
   "cell_type": "code",
   "execution_count": 11,
   "metadata": {},
   "outputs": [
    {
     "name": "stdout",
     "output_type": "stream",
     "text": [
      "Epoch 1/100\n",
      "62/62 - 2s - loss: 0.4577\n",
      "Epoch 2/100\n",
      "62/62 - 0s - loss: 0.4126\n",
      "Epoch 3/100\n",
      "62/62 - 0s - loss: 0.4026\n",
      "Epoch 4/100\n",
      "62/62 - 0s - loss: 0.3851\n",
      "Epoch 5/100\n",
      "62/62 - 0s - loss: 0.3885\n",
      "Epoch 6/100\n",
      "62/62 - 0s - loss: 0.3906\n",
      "Epoch 7/100\n",
      "62/62 - 0s - loss: 0.3816\n",
      "Epoch 8/100\n",
      "62/62 - 0s - loss: 0.3772\n",
      "Epoch 9/100\n",
      "62/62 - 0s - loss: 0.3831\n",
      "Epoch 10/100\n",
      "62/62 - 0s - loss: 0.3686\n",
      "Epoch 11/100\n",
      "62/62 - 0s - loss: 0.3707\n",
      "Epoch 12/100\n",
      "62/62 - 0s - loss: 0.3664\n",
      "Epoch 13/100\n",
      "62/62 - 0s - loss: 0.3602\n",
      "Epoch 14/100\n",
      "62/62 - 0s - loss: 0.3643\n",
      "Epoch 15/100\n",
      "62/62 - 0s - loss: 0.3623\n",
      "Epoch 16/100\n",
      "62/62 - 0s - loss: 0.3594\n",
      "Epoch 17/100\n",
      "62/62 - 0s - loss: 0.3636\n",
      "Epoch 18/100\n",
      "62/62 - 0s - loss: 0.3570\n",
      "Epoch 19/100\n",
      "62/62 - 0s - loss: 0.3541\n",
      "Epoch 20/100\n",
      "62/62 - 0s - loss: 0.3524\n",
      "Epoch 21/100\n",
      "62/62 - 0s - loss: 0.3503\n",
      "Epoch 22/100\n",
      "62/62 - 0s - loss: 0.3453\n",
      "Epoch 23/100\n",
      "62/62 - 0s - loss: 0.3481\n",
      "Epoch 24/100\n",
      "62/62 - 0s - loss: 0.3391\n",
      "Epoch 25/100\n",
      "62/62 - 0s - loss: 0.3391\n",
      "Epoch 26/100\n",
      "62/62 - 0s - loss: 0.3381\n",
      "Epoch 27/100\n",
      "62/62 - 0s - loss: 0.3438\n",
      "Epoch 28/100\n",
      "62/62 - 0s - loss: 0.3355\n",
      "Epoch 29/100\n",
      "62/62 - 0s - loss: 0.3316\n",
      "Epoch 30/100\n",
      "62/62 - 0s - loss: 0.3308\n",
      "Epoch 31/100\n",
      "62/62 - 0s - loss: 0.3280\n",
      "Epoch 32/100\n",
      "62/62 - 0s - loss: 0.3250\n",
      "Epoch 33/100\n",
      "62/62 - 0s - loss: 0.3191\n",
      "Epoch 34/100\n",
      "62/62 - 0s - loss: 0.3287\n",
      "Epoch 35/100\n",
      "62/62 - 0s - loss: 0.3193\n",
      "Epoch 36/100\n",
      "62/62 - 0s - loss: 0.3164\n",
      "Epoch 37/100\n",
      "62/62 - 0s - loss: 0.3163\n",
      "Epoch 38/100\n",
      "62/62 - 0s - loss: 0.3069\n",
      "Epoch 39/100\n",
      "62/62 - 0s - loss: 0.3126\n",
      "Epoch 40/100\n",
      "62/62 - 0s - loss: 0.3065\n",
      "Epoch 41/100\n",
      "62/62 - 0s - loss: 0.3023\n",
      "Epoch 42/100\n",
      "62/62 - 0s - loss: 0.3045\n",
      "Epoch 43/100\n",
      "62/62 - 0s - loss: 0.2973\n",
      "Epoch 44/100\n",
      "62/62 - 0s - loss: 0.2963\n",
      "Epoch 45/100\n",
      "62/62 - 0s - loss: 0.2955\n",
      "Epoch 46/100\n",
      "62/62 - 0s - loss: 0.2903\n",
      "Epoch 47/100\n",
      "62/62 - 0s - loss: 0.2901\n",
      "Epoch 48/100\n",
      "62/62 - 0s - loss: 0.2797\n",
      "Epoch 49/100\n",
      "62/62 - 0s - loss: 0.2829\n",
      "Epoch 50/100\n",
      "62/62 - 0s - loss: 0.2798\n",
      "Epoch 51/100\n",
      "62/62 - 0s - loss: 0.2815\n",
      "Epoch 52/100\n",
      "62/62 - 0s - loss: 0.2756\n",
      "Epoch 53/100\n",
      "62/62 - 0s - loss: 0.2759\n",
      "Epoch 54/100\n",
      "62/62 - 0s - loss: 0.2706\n",
      "Epoch 55/100\n",
      "62/62 - 0s - loss: 0.2685\n",
      "Epoch 56/100\n",
      "62/62 - 0s - loss: 0.2650\n",
      "Epoch 57/100\n",
      "62/62 - 0s - loss: 0.2632\n",
      "Epoch 58/100\n",
      "62/62 - 0s - loss: 0.2534\n",
      "Epoch 59/100\n",
      "62/62 - 0s - loss: 0.2515\n",
      "Epoch 60/100\n",
      "62/62 - 0s - loss: 0.2560\n",
      "Epoch 61/100\n",
      "62/62 - 0s - loss: 0.2487\n",
      "Epoch 62/100\n",
      "62/62 - 0s - loss: 0.2461\n",
      "Epoch 63/100\n",
      "62/62 - 0s - loss: 0.2427\n",
      "Epoch 64/100\n",
      "62/62 - 0s - loss: 0.2440\n",
      "Epoch 65/100\n",
      "62/62 - 0s - loss: 0.2346\n",
      "Epoch 66/100\n",
      "62/62 - 0s - loss: 0.2305\n",
      "Epoch 67/100\n",
      "62/62 - 0s - loss: 0.2216\n",
      "Epoch 68/100\n",
      "62/62 - 0s - loss: 0.2313\n",
      "Epoch 69/100\n",
      "62/62 - 0s - loss: 0.2236\n",
      "Epoch 70/100\n",
      "62/62 - 0s - loss: 0.2216\n",
      "Epoch 71/100\n",
      "62/62 - 0s - loss: 0.2196\n",
      "Epoch 72/100\n",
      "62/62 - 0s - loss: 0.2114\n",
      "Epoch 73/100\n",
      "62/62 - 0s - loss: 0.2071\n",
      "Epoch 74/100\n",
      "62/62 - 0s - loss: 0.2062\n",
      "Epoch 75/100\n",
      "62/62 - 0s - loss: 0.2048\n",
      "Epoch 76/100\n",
      "62/62 - 0s - loss: 0.2004\n",
      "Epoch 77/100\n",
      "62/62 - 0s - loss: 0.2000\n",
      "Epoch 78/100\n",
      "62/62 - 0s - loss: 0.1965\n",
      "Epoch 79/100\n",
      "62/62 - 0s - loss: 0.1928\n",
      "Epoch 80/100\n",
      "62/62 - 0s - loss: 0.1826\n",
      "Epoch 81/100\n",
      "62/62 - 0s - loss: 0.1847\n",
      "Epoch 82/100\n",
      "62/62 - 0s - loss: 0.1806\n",
      "Epoch 83/100\n",
      "62/62 - 0s - loss: 0.1772\n",
      "Epoch 84/100\n",
      "62/62 - 0s - loss: 0.1739\n",
      "Epoch 85/100\n",
      "62/62 - 0s - loss: 0.1695\n",
      "Epoch 86/100\n",
      "62/62 - 0s - loss: 0.1695\n",
      "Epoch 87/100\n",
      "62/62 - 0s - loss: 0.1660\n",
      "Epoch 88/100\n",
      "62/62 - 0s - loss: 0.1605\n",
      "Epoch 89/100\n",
      "62/62 - 0s - loss: 0.1573\n",
      "Epoch 90/100\n",
      "62/62 - 0s - loss: 0.1560\n",
      "Epoch 91/100\n",
      "62/62 - 0s - loss: 0.1530\n",
      "Epoch 92/100\n",
      "62/62 - 0s - loss: 0.1541\n",
      "Epoch 93/100\n",
      "62/62 - 0s - loss: 0.1461\n",
      "Epoch 94/100\n",
      "62/62 - 0s - loss: 0.1478\n",
      "Epoch 95/100\n",
      "62/62 - 0s - loss: 0.1445\n",
      "Epoch 96/100\n",
      "62/62 - 0s - loss: 0.1381\n",
      "Epoch 97/100\n",
      "62/62 - 0s - loss: 0.1405\n",
      "Epoch 98/100\n",
      "62/62 - 0s - loss: 0.1357\n",
      "Epoch 99/100\n",
      "62/62 - 0s - loss: 0.1318\n",
      "Epoch 100/100\n",
      "62/62 - 0s - loss: 0.1317\n"
     ]
    }
   ],
   "source": [
    "history = model.fit(trainX,trainY, epochs=100, batch_size=16, verbose=2)"
   ]
  },
  {
   "cell_type": "markdown",
   "metadata": {},
   "source": [
    "\n",
    "model.input\n"
   ]
  },
  {
   "cell_type": "code",
   "execution_count": 12,
   "metadata": {},
   "outputs": [
    {
     "data": {
      "image/png": "[encoded data removed]",
      "text/plain": [
       "<Figure size 432x288 with 1 Axes>"
      ]
     },
     "metadata": {
      "needs_background": "light"
     },
     "output_type": "display_data"
    }
   ],
   "source": [
    "import matplotlib.pyplot as plt\n",
    "%matplotlib inline\n",
    "\n",
    "loss = history.history['loss']\n",
    "plt.plot(loss, label='Training loss')\n",
    "plt.legend()\n",
    "\n",
    "plt.show()"
   ]
  },
  {
   "cell_type": "markdown",
   "metadata": {},
   "source": [
    "# "
   ]
  },
  {
   "cell_type": "code",
   "execution_count": 13,
   "metadata": {},
   "outputs": [
    {
     "name": "stdout",
     "output_type": "stream",
     "text": [
      "0.10354095697402954\n"
     ]
    }
   ],
   "source": [
    "trainScore = model.evaluate(trainX, trainY, verbose=0)\n",
    "print(trainScore)"
   ]
  },
  {
   "cell_type": "markdown",
   "metadata": {},
   "source": [
    "# "
   ]
  },
  {
   "cell_type": "code",
   "execution_count": 14,
   "metadata": {},
   "outputs": [],
   "source": [
    "trainPredict = model.predict(trainX)\n",
    "testPredict= model.predict(testX)\n",
    "predicted=np.concatenate((trainPredict,testPredict),axis=0)"
   ]
  },
  {
   "cell_type": "code",
   "execution_count": 15,
   "metadata": {},
   "outputs": [
    {
     "data": {
      "image/png": "[encoded data removed]",
      "text/plain": [
       "<Figure size 432x288 with 1 Axes>"
      ]
     },
     "metadata": {
      "needs_background": "light"
     },
     "output_type": "display_data"
    }
   ],
   "source": [
    "plt.plot(x)\n",
    "plt.plot(predicted)\n",
    "plt.axvline(len(trainX), c=\"r\")\n",
    "plt.show()"
   ]
  },
  {
   "cell_type": "markdown",
   "metadata": {},
   "source": [
    "# "
   ]
  },
  {
   "cell_type": "code",
   "execution_count": 16,
   "metadata": {},
   "outputs": [],
   "source": [
    "testX,testY =convertToDataset(test,50)"
   ]
  },
  {
   "cell_type": "code",
   "execution_count": 17,
   "metadata": {},
   "outputs": [
    {
     "data": {
      "text/plain": [
       "(450, 50, 1)"
      ]
     },
     "execution_count": 17,
     "metadata": {},
     "output_type": "execute_result"
    }
   ],
   "source": [
    "testX = np.reshape(testX, (testX.shape[0],testX.shape[1], 1))\n",
    "testX.shape"
   ]
  },
  {
   "cell_type": "markdown",
   "metadata": {},
   "source": []
  },
  {
   "cell_type": "code",
   "execution_count": 18,
   "metadata": {
    "scrolled": true
   },
   "outputs": [],
   "source": [
    "testPredict= model.predict(testX)\n"
   ]
  },
  {
   "cell_type": "code",
   "execution_count": 19,
   "metadata": {},
   "outputs": [
    {
     "data": {
      "text/plain": [
       "<KerasTensor: shape=(None, None, 1) dtype=float32 (created by layer 'simple_rnn_input')>"
      ]
     },
     "execution_count": 19,
     "metadata": {},
     "output_type": "execute_result"
    }
   ],
   "source": [
    "model.input"
   ]
  },
  {
   "cell_type": "markdown",
   "metadata": {},
   "source": []
  }
 ],
 "metadata": {
  "kernelspec": {
   "display_name": "Python 3",
   "language": "python",
   "name": "python3"
  },
  "language_info": {
   "codemirror_mode": {
    "name": "ipython",
    "version": 3
   },
   "file_extension": ".py",
   "mimetype": "text/x-python",
   "name": "python",
   "nbconvert_exporter": "python",
   "pygments_lexer": "ipython3",
   "version": "3.8.3"
  }
 },
 "nbformat": 4,
 "nbformat_minor": 2
}
