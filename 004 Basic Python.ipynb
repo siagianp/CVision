{
 "cells": [
  {
   "cell_type": "code",
   "execution_count": 3,
   "metadata": {},
   "outputs": [],
   "source": []
  },
  {
   "cell_type": "markdown",
   "metadata": {},
   "source": [
    "<center><div style=\"direction:rtl;font-family:B Lotus, B Nazanin, Tahoma\">Study Vision</div></center>\n",
    "<img src=\"./output.jpg\" alt=\"Study.vision\" style=\"width: 200px;\"/>\n",
    "<h1><center><div style=\"direction:rtl;font-family:B Lotus, B Nazanin,     \n",
    "    Tahoma\">Basic Python - Part 3</div></center></h1>\n",
    "    \n",
    "    \n",
    "    <h1><center><div style=\"direction:rtl;font-family:B Lotus, B Nazanin,     \n",
    "    Tahoma\">If , elif, & else\n",
    "while loops\n",
    "for loops\n",
    "function & lambda\n",
    "Percabangan (If, elif, else)\n",
    "struktur percabangan pada python :\n",
    "\n",
    "if statement_1 :\n",
    "    tugas_1\n",
    "elif statement_2 :\n",
    "    tugas_2\n",
    "else :\n",
    "    tugas_3\n",
    "\n",
    "if (statement){\n",
    "    task1\n",
    "    task2\n",
    "}</div></center></h1>\n",
    "    "
   ]
  },
  {
   "cell_type": "code",
   "execution_count": 22,
   "metadata": {},
   "outputs": [
    {
     "ename": "SyntaxError",
     "evalue": "invalid syntax (<ipython-input-22-2aabe56d0f76>, line 3)",
     "output_type": "error",
     "traceback": [
      "\u001b[1;36m  File \u001b[1;32m\"<ipython-input-22-2aabe56d0f76>\"\u001b[1;36m, line \u001b[1;32m3\u001b[0m\n\u001b[1;33m    If , elif, & else\u001b[0m\n\u001b[1;37m         ^\u001b[0m\n\u001b[1;31mSyntaxError\u001b[0m\u001b[1;31m:\u001b[0m invalid syntax\n"
     ]
    }
   ],
   "source": [
    "#01 Basic Python\n",
    "\n",
    "If , elif, & else\n",
    "while loops\n",
    "for loops\n",
    "function & lambda\n",
    "Percabangan (If, elif, else)\n",
    "struktur percabangan pada python :\n",
    "\n",
    "if statement_1 :\n",
    "    tugas_1\n",
    "elif statement_2 :\n",
    "    tugas_2\n",
    "else :\n",
    "    tugas_3\n",
    "\n",
    "if (statement){\n",
    "    task1\n",
    "    task2\n",
    "}\n"
   ]
  },
  {
   "cell_type": "code",
   "execution_count": 8,
   "metadata": {},
   "outputs": [],
   "source": [
    "#02 Struktur If"
   ]
  },
  {
   "cell_type": "code",
   "execution_count": 9,
   "metadata": {},
   "outputs": [
    {
     "name": "stdout",
     "output_type": "stream",
     "text": [
      "Apakah kamu lulus? [ya/tidak]: y\n",
      "ini task 2\n"
     ]
    }
   ],
   "source": [
    "lulus = input(\"Apakah kamu lulus? [ya/tidak]: \")\n",
    "\n",
    "if lulus == \"tidak\":\n",
    "    print(\"Kamu harus ikut ujian\")\n",
    "\n",
    "print(\"ini task 2\")"
   ]
  },
  {
   "cell_type": "code",
   "execution_count": 10,
   "metadata": {},
   "outputs": [
    {
     "name": "stdout",
     "output_type": "stream",
     "text": [
      "Input nilai: 69\n",
      "Nilai dibawah KKM : 69\n"
     ]
    }
   ],
   "source": [
    "nilai = int(input(\"Input nilai: \"))\n",
    "\n",
    "if nilai < 70:\n",
    "    print(\"Nilai dibawah KKM : %d\" % nilai)"
   ]
  },
  {
   "cell_type": "code",
   "execution_count": 11,
   "metadata": {},
   "outputs": [
    {
     "name": "stdout",
     "output_type": "stream",
     "text": [
      "Cek kriteria lamaran kerja\n",
      "Umur : 16\n",
      "Tinggi badan : 178\n",
      "Umur 16 dan tinggi badan 178, memenuhi kriteria.\n"
     ]
    }
   ],
   "source": [
    "print(\"Cek kriteria lamaran kerja\")\n",
    "\n",
    "umur = int(input(\"Umur : \"))\n",
    "tinggi = int(input(\"Tinggi badan : \"))\n",
    "\n",
    "if umur < 30 and tinggi > 165:\n",
    "    print(\"Umur %d dan tinggi badan %d, memenuhi kriteria.\" % (umur, tinggi))\n",
    "    "
   ]
  },
  {
   "cell_type": "code",
   "execution_count": 12,
   "metadata": {},
   "outputs": [
    {
     "name": "stdout",
     "output_type": "stream",
     "text": [
      "Check Password\n",
      "password : 123\n",
      "Password minimal 8 karakter!\n"
     ]
    }
   ],
   "source": [
    "print(\"Check Password\")\n",
    "\n",
    "password = input(\"password : \")\n",
    "\n",
    "if len(password) <= 8:\n",
    "    print(\"Password minimal 8 karakter!\")\n",
    "if password == 'admin':\n",
    "    print(\"Password tidak boleh terlalu mudah\")"
   ]
  },
  {
   "cell_type": "code",
   "execution_count": 13,
   "metadata": {},
   "outputs": [],
   "source": [
    "# 03 Struktur if & else\n"
   ]
  },
  {
   "cell_type": "code",
   "execution_count": 14,
   "metadata": {},
   "outputs": [
    {
     "name": "stdout",
     "output_type": "stream",
     "text": [
      "Berapa umur kamu: 12\n",
      "Kamu belum boleh membuat SIM\n"
     ]
    }
   ],
   "source": [
    "umur = int(input(\"Berapa umur kamu: \"))\n",
    "if umur >= 18:\n",
    "    print(\"Kamu boleh membuat SIM\")\n",
    "else:\n",
    "    print(\"Kamu belum boleh membuat SIM\")"
   ]
  },
  {
   "cell_type": "code",
   "execution_count": 15,
   "metadata": {},
   "outputs": [
    {
     "name": "stdout",
     "output_type": "stream",
     "text": [
      "Cek kriteria lamaran kerja\n",
      "Berapa umur kamu: 20\n",
      "Tinggi badan : 178\n",
      "Umur 20 dan tinggi badan 178, memenuhi kriteria.\n"
     ]
    }
   ],
   "source": [
    "print(\"Cek kriteria lamaran kerja\")\n",
    "\n",
    "umur = int(input(\"Berapa umur kamu: \"))\n",
    "tinggi = int(input(\"Tinggi badan : \"))\n",
    "\n",
    "if umur < 30 and tinggi > 165:\n",
    "    print(\"Umur %d dan tinggi badan %d, memenuhi kriteria.\" % (umur, tinggi))\n",
    "else :\n",
    "    print(\"Umur %d dan tinggi badan %d, tidak memenuhi kriteria.\" % (umur, tinggi))"
   ]
  },
  {
   "cell_type": "code",
   "execution_count": 16,
   "metadata": {},
   "outputs": [],
   "source": [
    "# 04 Struktur if , elif & else"
   ]
  },
  {
   "cell_type": "code",
   "execution_count": 17,
   "metadata": {},
   "outputs": [
    {
     "name": "stdout",
     "output_type": "stream",
     "text": [
      "Cek Kualitas Suhu\n",
      "suhu sekarang : 12\n",
      "suhu dingin\n"
     ]
    }
   ],
   "source": [
    "print(\"Cek Kualitas Suhu\")\n",
    "\n",
    "suhu = int(input(\"suhu sekarang : \"))\n",
    "\n",
    "if suhu < 25 :\n",
    "    print(\"suhu dingin\")\n",
    "elif suhu < 30 :\n",
    "    print(\"suhu hangat\")\n",
    "else :\n",
    "    print(\"suhu panas\")"
   ]
  },
  {
   "cell_type": "code",
   "execution_count": 18,
   "metadata": {},
   "outputs": [
    {
     "name": "stdout",
     "output_type": "stream",
     "text": [
      "Cek Kualitas Suhu\n",
      "suhu sekarang : 35\n",
      "suhu panas\n"
     ]
    }
   ],
   "source": [
    "print(\"Cek Kualitas Suhu\")\n",
    "\n",
    "suhu = int(input(\"suhu sekarang : \"))\n",
    "\n",
    "if suhu < 25 :\n",
    "    print(\"suhu dingin\")\n",
    "if suhu < 30 :\n",
    "    print(\"suhu hangat\")\n",
    "else :\n",
    "    print(\"suhu panas\")\n",
    "    "
   ]
  },
  {
   "cell_type": "code",
   "execution_count": 19,
   "metadata": {},
   "outputs": [],
   "source": [
    "# 05 Mengunakan operator pembanding"
   ]
  },
  {
   "cell_type": "code",
   "execution_count": 20,
   "metadata": {},
   "outputs": [
    {
     "name": "stdout",
     "output_type": "stream",
     "text": [
      "Cek Kualitas Suhu\n",
      "suhu sekarang : 53\n",
      "suhu panas\n"
     ]
    }
   ],
   "source": [
    "print(\"Cek Kualitas Suhu\")\n",
    "\n",
    "suhu = int(input(\"suhu sekarang : \"))\n",
    "\n",
    "if suhu < 25 :\n",
    "    print(\"suhu dingin\")\n",
    "if suhu >= 25 and suhu < 30 :\n",
    "    print(\"suhu hangat\")\n",
    "if suhu >= 30 :\n",
    "    print(\"suhu panas\")"
   ]
  },
  {
   "cell_type": "code",
   "execution_count": 21,
   "metadata": {},
   "outputs": [],
   "source": [
    "# Task\n",
    "# Buat program untuk menghitung nilai siswa\n",
    "# 90 - 100 = A\n",
    "# 80 - 89 = B+\n",
    "# 70 - 79 = B\n",
    "# 60 - 69 = C+\n",
    "# 50 - 59 = C\n",
    "# 40 - 49 = D\n",
    "# 0 - 39 = E "
   ]
  },
  {
   "cell_type": "code",
   "execution_count": 23,
   "metadata": {},
   "outputs": [],
   "source": [
    "# 06 Jawaban Soal"
   ]
  },
  {
   "cell_type": "code",
   "execution_count": 24,
   "metadata": {},
   "outputs": [
    {
     "name": "stdout",
     "output_type": "stream",
     "text": [
      "Cek Nilai Kualitatif\n",
      "Inputkan nilaimu: 89\n",
      "Grade: B+\n"
     ]
    }
   ],
   "source": [
    "print(\"Cek Nilai Kualitatif\")\n",
    "\n",
    "nilai = int(input(\"Inputkan nilaimu: \"))\n",
    "\n",
    "if nilai > 100:\n",
    "    print(\"nilai invalid\")\n",
    "elif nilai >= 90:\n",
    "    grade = \"A\"\n",
    "    print(\"Grade: %s\" % grade)\n",
    "elif nilai >= 80:\n",
    "    grade = \"B+\"\n",
    "    print(\"Grade: %s\" % grade)\n",
    "elif nilai >= 70:\n",
    "    grade = \"B\"\n",
    "    print(\"Grade: %s\" % grade)\n",
    "elif nilai >= 60:\n",
    "    grade = \"C+\"\n",
    "    print(\"Grade: %s\" % grade)\n",
    "elif nilai >= 50:\n",
    "    grade = \"C\"\n",
    "    print(\"Grade: %s\" % grade)\n",
    "elif nilai >= 40:\n",
    "    grade = \"D\"\n",
    "    print(\"Grade: %s\" % grade)\n",
    "elif nilai >= 0:\n",
    "    grade = \"E\"\n",
    "    print(\"Grade: %s\" % grade)\n",
    "else :\n",
    "    print(\"nilai negative invalid\")"
   ]
  },
  {
   "cell_type": "code",
   "execution_count": 28,
   "metadata": {},
   "outputs": [
    {
     "name": "stdout",
     "output_type": "stream",
     "text": [
      "Cek Nilai Kualitatif\n",
      "Inputkan nilaimu: 76\n",
      "Grade: D\n"
     ]
    }
   ],
   "source": [
    "print(\"Cek Nilai Kualitatif\")\n",
    "\n",
    "nilai = int(input(\"Inputkan nilaimu: \"))\n",
    "\n",
    "if nilai >= 90:\n",
    "    grade = \"A\"\n",
    "if nilai >= 80:\n",
    "    grade = \"B+\"\n",
    "if nilai >= 70:\n",
    "    grade = \"B\"\n",
    "if nilai >= 60:\n",
    "    grade = \"C+\"\n",
    "if nilai >= 50:\n",
    "    grade = \"C\"\n",
    "if nilai >= 40:\n",
    "    grade = \"D\"\n",
    "else:\n",
    "    grade = \"E\"\n",
    "\n",
    "print(\"Grade: %s\" % grade)"
   ]
  },
  {
   "cell_type": "code",
   "execution_count": 29,
   "metadata": {},
   "outputs": [
    {
     "ename": "SyntaxError",
     "evalue": "invalid syntax (<ipython-input-29-8b62283289be>, line 1)",
     "output_type": "error",
     "traceback": [
      "\u001b[1;36m  File \u001b[1;32m\"<ipython-input-29-8b62283289be>\"\u001b[1;36m, line \u001b[1;32m1\u001b[0m\n\u001b[1;33m    Perbedaan multiple if statement dan elif statement\u001b[0m\n\u001b[1;37m              ^\u001b[0m\n\u001b[1;31mSyntaxError\u001b[0m\u001b[1;31m:\u001b[0m invalid syntax\n"
     ]
    }
   ],
   "source": [
    "Perbedaan multiple if statement dan elif statement\n",
    "jika multiple if statment maka program akan cek semua if statement (tidak ada yang terlewatkan) dan bisa jadi semua instruksi bisa dilakukan jika memang memnuhi kondisi semua multiple if statement.\n",
    "Namun jika elif statement tidak semua dicek (bisa semua/bisa tidak), program akan cek semua kondisi jika program masih belum menemukan yang sesuai, namun jika ada yang sesuai maka program akan langsung keluar dari statement pecabangan.\n",
    "Menggunakan operator membership pada statement if\n"
   ]
  },
  {
   "cell_type": "code",
   "execution_count": null,
   "metadata": {},
   "outputs": [],
   "source": [
    "print (\"Cek mata kuliah IT\")\n",
    "\n",
    "nama = input(\"nama mata kuliah :\")\n",
    "\n",
    "list_matkul = ['aok', 'pic', 'AI', 'pabi']\n",
    "\n",
    "if nama in list_matkul :\n",
    "    print(\"%s merupakan mata kuliah IT\" % nama)\n",
    "else :\n",
    "    print(\"%s bukan mata kuliah IT\" % nama)"
   ]
  },
  {
   "cell_type": "code",
   "execution_count": null,
   "metadata": {},
   "outputs": [],
   "source": []
  },
  {
   "cell_type": "code",
   "execution_count": null,
   "metadata": {},
   "outputs": [],
   "source": [
    "print(\"Cek Makanan sehat\")\n",
    "\n",
    "nama = input(\"nama makanan : \")\n",
    "\n",
    "list_makanan_tidak_sehat = ['soda', 'burger', 'gorengan', 'permen']\n",
    "\n",
    "if nama not in list_makanan_tidak_sehat :\n",
    "    print(\"%s merupakan makanan sehat\" % nama)\n",
    "else :\n",
    "    print(\"%s merupakan makanan tidak sehat\" % nama)"
   ]
  },
  {
   "cell_type": "code",
   "execution_count": null,
   "metadata": {},
   "outputs": [],
   "source": [
    "#Cek Makanan sehat\n",
    "jeruk merupakan makanan sehat\n",
    "nested if\n",
    "if statement :\n",
    "    task\n",
    "    if statement :\n",
    "        task\n",
    "     else :\n",
    "        task"
   ]
  },
  {
   "cell_type": "code",
   "execution_count": null,
   "metadata": {},
   "outputs": [],
   "source": [
    "nama = input(\"Nama :\")\n",
    "gender = input(\"Jenis kelamin [L/P] : \")\n",
    "\n",
    "if gender == 'L':\n",
    "    hobby = input(\"Hobby : \")\n",
    "    if hobby in ['Game', 'Futsal', 'Design', 'Musik']:\n",
    "        print(\"%s anda memiliki hobi yang banyak disukai laki-laki\" % nama)\n",
    "    else :\n",
    "        print(\"%s anda memiliki hobi yang unik\" % nama)\n",
    "else :\n",
    "    hobby = input(\"Hobby : \")\n",
    "    if hobby in ['Fashion', 'Cooking', 'Photography']:\n",
    "        print(\"%s anda memiliki hobi yang banyak disukai perempuan\" % nama)"
   ]
  },
  {
   "cell_type": "code",
   "execution_count": null,
   "metadata": {},
   "outputs": [],
   "source": [
    "#Perulangan mengunakan for\n",
    "perulangan pada pemrograman python hanya mengimplementasikan collection-based iteration,\n",
    "sehingga sebuah perulangan bisa dilakukan jika kita memiliki iterable object di python\n",
    "for <var> in <iterable>:\n",
    "    <task(s)>\n",
    "Iterable pada python adalah object dalam bentuk string, list, tuple, dictionary, set\n",
    "contoh bentuk perulangan dari iterator list"
   ]
  },
  {
   "cell_type": "code",
   "execution_count": null,
   "metadata": {},
   "outputs": [],
   "source": [
    "myList = [1, 2, 3, 4, 5, 6, 7, 8]\n",
    "\n",
    "print(type(myList))\n",
    "\n",
    "for i in myList :\n",
    "    print (\"item\", i+2)"
   ]
  },
  {
   "cell_type": "code",
   "execution_count": null,
   "metadata": {},
   "outputs": [],
   "source": [
    "#contoh bentuk perulangan dari iterator tuple"
   ]
  },
  {
   "cell_type": "code",
   "execution_count": null,
   "metadata": {},
   "outputs": [],
   "source": [
    "myTuple = ('satu', 'dua', 'tiga', 'empat', 'lima')\n",
    "\n",
    "print(type(myTuple))\n",
    "\n",
    "for item in myTuple :\n",
    "    print (\"item\", item)\n",
    "    "
   ]
  },
  {
   "cell_type": "code",
   "execution_count": null,
   "metadata": {},
   "outputs": [],
   "source": [
    "#contoh bentuk perulangan dari iterator set"
   ]
  },
  {
   "cell_type": "code",
   "execution_count": null,
   "metadata": {},
   "outputs": [],
   "source": [
    "mySet = {'satu', 'dua', 'tiga'}\n",
    "\n",
    "print(type(mySet))\n",
    "\n",
    "for item in mySet :\n",
    "    print (\"item\", item)"
   ]
  },
  {
   "cell_type": "code",
   "execution_count": null,
   "metadata": {},
   "outputs": [],
   "source": [
    "#contoh bentuk perulangan dari iterator dictionary\n"
   ]
  },
  {
   "cell_type": "code",
   "execution_count": null,
   "metadata": {},
   "outputs": [],
   "source": [
    "myDict = {'key 1': \"value 1\", \n",
    "          'key 2': \"value 2\", \n",
    "          'key 3': \"value 3\"}\n",
    "\n",
    "print(type(myDict))\n",
    "\n",
    "for item in myDict :\n",
    "    print (\"item\", item)"
   ]
  },
  {
   "cell_type": "code",
   "execution_count": null,
   "metadata": {},
   "outputs": [],
   "source": [
    "myDict = {'satu': 1, 'dua': 2, 'tiga': 3}\n",
    "myDict.values()"
   ]
  },
  {
   "cell_type": "code",
   "execution_count": null,
   "metadata": {},
   "outputs": [],
   "source": [
    "myDict = {'satu': 1, 'dua': 2, 'tiga': 3}\n",
    "\n",
    "print(type(myDict))\n",
    "\n",
    "for item in myDict.values() :\n",
    "    print (\"item\", item)"
   ]
  },
  {
   "cell_type": "code",
   "execution_count": null,
   "metadata": {},
   "outputs": [],
   "source": [
    "myDict = {'satu': 1, 'dua': 2, 'tiga': 3}\n",
    "\n",
    "print(type(myDict))\n",
    "\n",
    "for key in myDict :\n",
    "    print (key, myDict[key])"
   ]
  },
  {
   "cell_type": "code",
   "execution_count": null,
   "metadata": {},
   "outputs": [],
   "source": [
    "angka = [1, 2, 3, 4, 5, 6, 7, 8]\n",
    "\n",
    "for item in angka :\n",
    "    hasil = item*2 + 4\n",
    "    print (\"%d * 2 + 4  = %d\" %(item, hasil))"
   ]
  },
  {
   "cell_type": "code",
   "execution_count": null,
   "metadata": {},
   "outputs": [],
   "source": [
    "3 * \" * \""
   ]
  },
  {
   "cell_type": "code",
   "execution_count": null,
   "metadata": {},
   "outputs": [],
   "source": [
    "angka = [0, 1, 2, 3, 4, 5, 6, 7, 8, 9]\n",
    "\n",
    "for i in angka :\n",
    "    print(\"*\" * i )"
   ]
  },
  {
   "cell_type": "code",
   "execution_count": null,
   "metadata": {},
   "outputs": [],
   "source": [
    "angka = [0, 1, 2, 3, 4, 5, 6, 7, 8, 9]\n",
    "\n",
    "for i in angka :\n",
    "    print(\"*\" * (len(angka) - i ) )"
   ]
  },
  {
   "cell_type": "code",
   "execution_count": null,
   "metadata": {},
   "outputs": [],
   "source": [
    "angka = [0, 1, 2, 3, 4, 5, 6, 7, 8, 9]\n",
    "\n",
    "for i in angka :\n",
    "    print(\" \"* (len(angka) - i) + \"*\" *i)"
   ]
  },
  {
   "cell_type": "code",
   "execution_count": null,
   "metadata": {},
   "outputs": [],
   "source": [
    "# task 2\n",
    "#buat perulangan for agar hasilnya sebagai berikut\n",
    "\n",
    "#**********\n",
    "# *********\n",
    "#  ********\n",
    "#   *******\n",
    "#    ******\n",
    "#     *****\n",
    "#      ****\n",
    "#       ***\n",
    "#        **\n",
    "#         *"
   ]
  },
  {
   "cell_type": "code",
   "execution_count": null,
   "metadata": {},
   "outputs": [],
   "source": [
    "angka = [0, 1, 2, 3, 4, 5, 6, 7, 8, 9]\n",
    "\n",
    "for i in angka:\n",
    "    print(\" \" * i + \"*\" * ( len(angka) - i))"
   ]
  },
  {
   "cell_type": "code",
   "execution_count": null,
   "metadata": {},
   "outputs": [],
   "source": [
    "#menggunakan if dalam for"
   ]
  },
  {
   "cell_type": "code",
   "execution_count": null,
   "metadata": {},
   "outputs": [],
   "source": [
    "angka = [1, 2, 3, 4, 5, 6, 7, 8]\n",
    "\n",
    "for item in angka :\n",
    "    if item % 2 == 0:\n",
    "        print (\"%d adalah genap\" % item)\n",
    "    else :\n",
    "        print (\"%d adalah ganjil\" % item)"
   ]
  },
  {
   "cell_type": "code",
   "execution_count": null,
   "metadata": {},
   "outputs": [],
   "source": [
    "#for didalam for"
   ]
  },
  {
   "cell_type": "code",
   "execution_count": null,
   "metadata": {},
   "outputs": [],
   "source": [
    "angka = [1, 2, 3]\n",
    "\n",
    "for i in angka :\n",
    "    for j in angka :\n",
    "        print(i, j)"
   ]
  },
  {
   "cell_type": "code",
   "execution_count": null,
   "metadata": {},
   "outputs": [],
   "source": [
    "list2D = [[1, 2, 3],\n",
    "          [4, 5, 6],\n",
    "          [7, 8, 9]]\n",
    "\n",
    "for row in list2D :\n",
    "    for item in row :\n",
    "        print(item)"
   ]
  },
  {
   "cell_type": "code",
   "execution_count": null,
   "metadata": {},
   "outputs": [],
   "source": [
    "list2D = [[1, 2, 3],\n",
    "          [4, 5, 6],\n",
    "          [7, 8, 9]]\n",
    "\n",
    "for row in list2D :\n",
    "    for item in row :\n",
    "        if item%2 == 0:\n",
    "            print (\"%d adalah genap\" % item)\n",
    "        else :\n",
    "            print (\"%d adalah ganjil\" % item)"
   ]
  },
  {
   "cell_type": "code",
   "execution_count": null,
   "metadata": {},
   "outputs": [],
   "source": [
    "users = [\n",
    "    {\n",
    "        'name' : 'john',\n",
    "        'age'  : 27,\n",
    "        'job'  : 'engineer'\n",
    "    },\n",
    "    {\n",
    "        'name' : 'budi',\n",
    "        'age'  : 30,\n",
    "        'job'  : 'guru'\n",
    "    },\n",
    "    {\n",
    "        'name' : 'sasa',\n",
    "        'age'  : 24,\n",
    "        'job'  : 'mahasiswi'\n",
    "    }\n",
    "]"
   ]
  },
  {
   "cell_type": "code",
   "execution_count": null,
   "metadata": {},
   "outputs": [],
   "source": [
    "for user in users :\n",
    "    print(user)"
   ]
  },
  {
   "cell_type": "code",
   "execution_count": null,
   "metadata": {},
   "outputs": [],
   "source": [
    "for user in users :\n",
    "    for key in user :\n",
    "        print(\"%s \\t : %s\" % (key, user[key]))\n",
    "    print(\"--------------\")"
   ]
  },
  {
   "cell_type": "code",
   "execution_count": null,
   "metadata": {},
   "outputs": [],
   "source": [
    "Perulangan menggunakan while\n",
    "struktur dasar,\n",
    "while <condition>:\n",
    "    <do something..>"
   ]
  },
  {
   "cell_type": "code",
   "execution_count": null,
   "metadata": {},
   "outputs": [],
   "source": [
    "i = 0\n",
    "while i <= 5 :\n",
    "    print(\"loop ke-\", i)\n",
    "    i +=1"
   ]
  },
  {
   "cell_type": "code",
   "execution_count": null,
   "metadata": {},
   "outputs": [],
   "source": [
    "data = input(\"ya/tidak\")\n",
    "\n",
    "while data == 'ya':\n",
    "    print(data)\n",
    "    data = input(\"ya/tidak\")\n",
    "    print(data)"
   ]
  },
  {
   "cell_type": "code",
   "execution_count": null,
   "metadata": {},
   "outputs": [],
   "source": [
    "i = 0\n",
    "while i <= 5 :\n",
    "    print(\"loop ke-\", i)\n",
    "    i +=1\n",
    "else :\n",
    "    print(\"loop selesai\")"
   ]
  },
  {
   "cell_type": "code",
   "execution_count": null,
   "metadata": {},
   "outputs": [],
   "source": [
    "data = input(\"ya/tidak\")\n",
    "\n",
    "while data == 'ya':\n",
    "    print(data)\n",
    "    data = input(\"ya/tidak\")\n",
    "    print(data)\n",
    "else :\n",
    "    print(\"loop dihentikan karena bernilai `tidak`\")"
   ]
  },
  {
   "cell_type": "code",
   "execution_count": null,
   "metadata": {},
   "outputs": [],
   "source": [
    "nama = input(\"input nama :\")\n",
    "\n",
    "while nama in [\"budi\", \"yuni\", \"vica\", \"rudi\"]:\n",
    "    print (\"%s ada pada list nama\" % nama)\n",
    "    \n",
    "    nama = input(\"input nama :\")\n",
    "else :\n",
    "    print (\"%s tidak ada pada list nama\" % nama)"
   ]
  },
  {
   "cell_type": "code",
   "execution_count": null,
   "metadata": {},
   "outputs": [],
   "source": [
    "nama = input(\"input nama :\")\n",
    "\n",
    "list_nama = [\"budi\", \"yuni\", \"vica\", \"rudi\"]\n",
    "\n",
    "i = 0\n",
    "while i < 10:\n",
    "    if nama in list_nama :\n",
    "        print (\"%s ada pada list nama\" % nama)\n",
    "    else :\n",
    "        print (\"%s tidak ada pada list nama\" % nama)\n",
    "    \n",
    "    nama = input(\"input nama :\")\n",
    "    i += 1"
   ]
  },
  {
   "cell_type": "code",
   "execution_count": null,
   "metadata": {},
   "outputs": [],
   "source": [
    "fungsi range()\n",
    "fungsi range digunakan untuk menghasilkan sequence angka"
   ]
  },
  {
   "cell_type": "code",
   "execution_count": null,
   "metadata": {},
   "outputs": [],
   "source": [
    "A = range(20)\n",
    "\n",
    "print(type(A))\n",
    "print(list(A))"
   ]
  },
  {
   "cell_type": "code",
   "execution_count": null,
   "metadata": {},
   "outputs": [],
   "source": [
    "kita dapat gunakan :\n",
    "\n",
    "fungsi list() untuk convert object range menjadi list\n",
    "fungsi set() untuk convert object range menjadi set\n",
    "fungsi tuple() untuk convert object range menjadi tuple"
   ]
  },
  {
   "cell_type": "code",
   "execution_count": null,
   "metadata": {},
   "outputs": [],
   "source": [
    "B = list(A)\n",
    "\n",
    "print(B, type(B))"
   ]
  },
  {
   "cell_type": "code",
   "execution_count": null,
   "metadata": {},
   "outputs": [],
   "source": [
    "B = tuple(A)\n",
    "\n",
    "print(B, type(B))"
   ]
  },
  {
   "cell_type": "code",
   "execution_count": null,
   "metadata": {},
   "outputs": [],
   "source": [
    "mengunakan range() pada perulangan for"
   ]
  },
  {
   "cell_type": "code",
   "execution_count": null,
   "metadata": {},
   "outputs": [],
   "source": [
    "list(range(15))"
   ]
  },
  {
   "cell_type": "code",
   "execution_count": null,
   "metadata": {},
   "outputs": [],
   "source": [
    "for i in range(15):\n",
    "    print (\"iterasi ke-\", i)"
   ]
  },
  {
   "cell_type": "code",
   "execution_count": null,
   "metadata": {},
   "outputs": [],
   "source": [
    "list( range(2, 15))"
   ]
  },
  {
   "cell_type": "code",
   "execution_count": null,
   "metadata": {},
   "outputs": [],
   "source": [
    "for i in range(2, 15):\n",
    "    print (\"iterasi ke-\", i)"
   ]
  },
  {
   "cell_type": "code",
   "execution_count": null,
   "metadata": {},
   "outputs": [],
   "source": [
    "for i in range(2, 15, 4):\n",
    "    print (\"iterasi ke-\", i)"
   ]
  },
  {
   "cell_type": "code",
   "execution_count": null,
   "metadata": {},
   "outputs": [],
   "source": [
    "Function pada Python\n",
    "def function_name():\n",
    "    task1\n",
    "    task2\n",
    "\n",
    "def function_name()\n",
    "    task1\n",
    "    task2\n",
    "    return data"
   ]
  },
  {
   "cell_type": "code",
   "execution_count": null,
   "metadata": {},
   "outputs": [],
   "source": [
    "def hitung(a, b):\n",
    "    c = a + b\n",
    "    return c"
   ]
  },
  {
   "cell_type": "code",
   "execution_count": null,
   "metadata": {},
   "outputs": [],
   "source": [
    "hasil = hitung(5,4)\n",
    "\n",
    "print(\"hasilnya adalah %d\" % hasil)"
   ]
  },
  {
   "cell_type": "code",
   "execution_count": null,
   "metadata": {},
   "outputs": [],
   "source": [
    "def cek_nilai(nilai):\n",
    "    if nilai >= 90:\n",
    "        grade = \"A\"\n",
    "    elif nilai >= 80:\n",
    "        grade = \"B+\"\n",
    "    elif nilai >= 70:\n",
    "        grade = \"B\"\n",
    "    elif nilai >= 60:\n",
    "        grade = \"C+\"\n",
    "    elif nilai >= 50:\n",
    "        grade = \"C\"\n",
    "    elif nilai >= 40:\n",
    "        grade = \"D\"\n",
    "    else:\n",
    "        grade = \"E\"\n",
    "\n",
    "    print(\"Grade: %s\" % grade)\n",
    "    \n",
    "    \n",
    "print(\"Cek Nilai Kualitatif\")\n",
    "\n",
    "nilai = int(input(\"Inputkan nilaimu: \"))\n",
    "\n",
    "cek_nilai(nilai)"
   ]
  },
  {
   "cell_type": "code",
   "execution_count": null,
   "metadata": {},
   "outputs": [],
   "source": [
    "print(\"Cek Nilai Kualitatif\")\n",
    "\n",
    "nilai = int(input(\"Inputkan nilaimu: \"))\n",
    "\n",
    "cek_nilai(nilai)"
   ]
  },
  {
   "cell_type": "code",
   "execution_count": null,
   "metadata": {},
   "outputs": [],
   "source": [
    "default value pada function & multiple return"
   ]
  },
  {
   "cell_type": "code",
   "execution_count": null,
   "metadata": {},
   "outputs": [],
   "source": [
    "def hitung(a, b, operasi='tambah'):\n",
    "    if operasi == 'tambah':\n",
    "        return a + b\n",
    "    elif operasi == 'kali' :\n",
    "        return a * b\n",
    "    elif operasi == 'kurang' :\n",
    "        return a - b\n",
    "\n",
    "hitung(2, 5, 'kali')"
   ]
  },
  {
   "cell_type": "code",
   "execution_count": null,
   "metadata": {},
   "outputs": [],
   "source": [
    "hitung(2, 5, 'kurang')"
   ]
  },
  {
   "cell_type": "code",
   "execution_count": null,
   "metadata": {},
   "outputs": [],
   "source": [
    "hitung(2, 5)"
   ]
  },
  {
   "cell_type": "code",
   "execution_count": null,
   "metadata": {},
   "outputs": [],
   "source": [
    "hitung(2, 5, 'tambah')"
   ]
  },
  {
   "cell_type": "code",
   "execution_count": null,
   "metadata": {},
   "outputs": [],
   "source": [
    "Lambda function (define function anonymouse)"
   ]
  },
  {
   "cell_type": "code",
   "execution_count": null,
   "metadata": {},
   "outputs": [],
   "source": [
    "x = lambda a : a + 10\n",
    "print(x(5))\n",
    "\n",
    "x = lambda a, b : a * b\n",
    "print(x(5, 6))\n",
    "\n",
    "x = lambda a, b, c : a + b + c\n",
    "print(x(5, 6, 2))\n",
    "\n",
    "output = lambda a : a in [1, 2, 3, 4]\n",
    "output(4)\n",
    "\n",
    "data = int(input(\"input nilai :\"))\n",
    "if output(data) :\n",
    "    print(\"%d ada pada list nilai\" % data)\n",
    "else :\n",
    "    print(\"%d tidak ada pada list nilai\" % data)\n",
    "\n",
    " \n",
    "myList = [1, 2, 3, 4]\n",
    "myFunction = lambda a, b: a in myList and b in myList \n",
    "\n",
    "myFunction(1, 2)\n",
    "\n",
    "myFunction(21, 2)\n",
    "\n",
    " "
   ]
  },
  {
   "cell_type": "code",
   "execution_count": null,
   "metadata": {},
   "outputs": [],
   "source": []
  }
 ],
 "metadata": {
  "kernelspec": {
   "display_name": "Python 3",
   "language": "python",
   "name": "python3"
  },
  "language_info": {
   "codemirror_mode": {
    "name": "ipython",
    "version": 3
   },
   "file_extension": ".py",
   "mimetype": "text/x-python",
   "name": "python",
   "nbconvert_exporter": "python",
   "pygments_lexer": "ipython3",
   "version": "3.8.3"
  }
 },
 "nbformat": 4,
 "nbformat_minor": 4
}
