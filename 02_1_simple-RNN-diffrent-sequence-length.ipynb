{
 "cells": [
  {
   "cell_type": "code",
   "execution_count": 2,
   "metadata": {},
   "outputs": [
    {
     "name": "stderr",
     "output_type": "stream",
     "text": [
      "C:\\Users\\User\\AppData\\Roaming\\Python\\Python38\\site-packages\\numpy\\_distributor_init.py:30: UserWarning: loaded more than 1 DLL from .libs:\n",
      "C:\\Users\\User\\AppData\\Roaming\\Python\\Python38\\site-packages\\numpy\\.libs\\libopenblas.jpijnswnnan3ce6lli5fwsphut2vxmth.gfortran-win_amd64.dll\n",
      "C:\\Users\\User\\AppData\\Roaming\\Python\\Python38\\site-packages\\numpy\\.libs\\libopenblas.WCDJNK7YVMPZQ2ME2ZZHJJRJ3JIKNDB7.gfortran-win_amd64.dll\n",
      "  warnings.warn(\"loaded more than 1 DLL from .libs:\"\n"
     ]
    }
   ],
   "source": [
    "import pandas as pd\n",
    "import numpy as np\n",
    "from keras.models import Sequential\n",
    "from keras.layers import Dense, SimpleRNN\n",
    "import matplotlib.pyplot as plt\n",
    "%matplotlib inline\n",
    "\n",
    "t = np.arange(0,1500)\n",
    "x = np.sin(0.02*t)+ np.random.rand(1500) * 2\n",
    "\n",
    "train,test = x[0:1000], x[1000:]\n",
    "\n",
    "# convert into dataset data and label\n",
    "def convertToDataset(data, step):\n",
    "    #data = np.append(data,np.repeat(data[-1,],step))\n",
    "    X, Y =[], []\n",
    "    for i in range(len(data)-step):\n",
    "        d=i+step  \n",
    "        X.append(data[i:d,])\n",
    "        Y.append(data[d,])\n",
    "    return np.array(X), np.array(Y)"
   ]
  },
  {
   "cell_type": "code",
   "execution_count": 3,
   "metadata": {},
   "outputs": [],
   "source": [
    "train_step = 10\n",
    "test_step = 20\n",
    "\n",
    "trainX,trainY =convertToDataset(train,train_step)\n",
    "testX,testY =convertToDataset(test,test_step)\n",
    "\n",
    "trainX = np.reshape(trainX, (trainX.shape[0],  trainX.shape[1], 1))\n",
    "testX = np.reshape(testX, (testX.shape[0],testX.shape[1], 1))"
   ]
  },
  {
   "cell_type": "code",
   "execution_count": 4,
   "metadata": {},
   "outputs": [
    {
     "name": "stdout",
     "output_type": "stream",
     "text": [
      "(990, 10, 1)\n",
      "(480, 20, 1)\n"
     ]
    }
   ],
   "source": [
    "print(trainX.shape)\n",
    "print(testX.shape)"
   ]
  },
  {
   "cell_type": "code",
   "execution_count": 5,
   "metadata": {},
   "outputs": [],
   "source": [
    "model = Sequential()\n",
    "model.add(SimpleRNN(units=64, input_shape=(None, 1),  activation=\"tanh\"))\n",
    "model.add(Dense(1))\n",
    "model.compile(loss='mean_squared_error', optimizer='rmsprop')"
   ]
  },
  {
   "cell_type": "code",
   "execution_count": 6,
   "metadata": {},
   "outputs": [
    {
     "name": "stdout",
     "output_type": "stream",
     "text": [
      "Model: \"sequential\"\n",
      "_________________________________________________________________\n",
      "Layer (type)                 Output Shape              Param #   \n",
      "=================================================================\n",
      "simple_rnn (SimpleRNN)       (None, 64)                4224      \n",
      "_________________________________________________________________\n",
      "dense (Dense)                (None, 1)                 65        \n",
      "=================================================================\n",
      "Total params: 4,289\n",
      "Trainable params: 4,289\n",
      "Non-trainable params: 0\n",
      "_________________________________________________________________\n"
     ]
    }
   ],
   "source": [
    "model.summary()"
   ]
  },
  {
   "cell_type": "code",
   "execution_count": 7,
   "metadata": {},
   "outputs": [
    {
     "data": {
      "text/plain": [
       "<KerasTensor: shape=(None, None, 1) dtype=float32 (created by layer 'simple_rnn_input')>"
      ]
     },
     "execution_count": 7,
     "metadata": {},
     "output_type": "execute_result"
    }
   ],
   "source": [
    "model.input"
   ]
  },
  {
   "cell_type": "code",
   "execution_count": 8,
   "metadata": {},
   "outputs": [
    {
     "name": "stdout",
     "output_type": "stream",
     "text": [
      "Epoch 1/100\n",
      "62/62 - 1s - loss: 0.4744\n",
      "Epoch 2/100\n",
      "62/62 - 0s - loss: 0.4107\n",
      "Epoch 3/100\n",
      "62/62 - 0s - loss: 0.4077\n",
      "Epoch 4/100\n",
      "62/62 - 0s - loss: 0.3987\n",
      "Epoch 5/100\n",
      "62/62 - 0s - loss: 0.3945\n",
      "Epoch 6/100\n",
      "62/62 - 0s - loss: 0.3835\n",
      "Epoch 7/100\n",
      "62/62 - 0s - loss: 0.3897\n",
      "Epoch 8/100\n",
      "62/62 - 0s - loss: 0.3843\n",
      "Epoch 9/100\n",
      "62/62 - 0s - loss: 0.3884\n",
      "Epoch 10/100\n",
      "62/62 - 0s - loss: 0.3757\n",
      "Epoch 11/100\n",
      "62/62 - 0s - loss: 0.3769\n",
      "Epoch 12/100\n",
      "62/62 - 0s - loss: 0.3782\n",
      "Epoch 13/100\n",
      "62/62 - 0s - loss: 0.3706\n",
      "Epoch 14/100\n",
      "62/62 - 0s - loss: 0.3693\n",
      "Epoch 15/100\n",
      "62/62 - 0s - loss: 0.3748\n",
      "Epoch 16/100\n",
      "62/62 - 0s - loss: 0.3706\n",
      "Epoch 17/100\n",
      "62/62 - 0s - loss: 0.3731\n",
      "Epoch 18/100\n",
      "62/62 - 0s - loss: 0.3596\n",
      "Epoch 19/100\n",
      "62/62 - 0s - loss: 0.3711\n",
      "Epoch 20/100\n",
      "62/62 - 0s - loss: 0.3584\n",
      "Epoch 21/100\n",
      "62/62 - 0s - loss: 0.3640\n",
      "Epoch 22/100\n",
      "62/62 - 0s - loss: 0.3541\n",
      "Epoch 23/100\n",
      "62/62 - 0s - loss: 0.3526\n",
      "Epoch 24/100\n",
      "62/62 - 0s - loss: 0.3529\n",
      "Epoch 25/100\n",
      "62/62 - 0s - loss: 0.3577\n",
      "Epoch 26/100\n",
      "62/62 - 0s - loss: 0.3499\n",
      "Epoch 27/100\n",
      "62/62 - 0s - loss: 0.3460\n",
      "Epoch 28/100\n",
      "62/62 - 0s - loss: 0.3464\n",
      "Epoch 29/100\n",
      "62/62 - 0s - loss: 0.3440\n",
      "Epoch 30/100\n",
      "62/62 - 0s - loss: 0.3428\n",
      "Epoch 31/100\n",
      "62/62 - 0s - loss: 0.3393\n",
      "Epoch 32/100\n",
      "62/62 - 0s - loss: 0.3387\n",
      "Epoch 33/100\n",
      "62/62 - 0s - loss: 0.3371\n",
      "Epoch 34/100\n",
      "62/62 - 0s - loss: 0.3342\n",
      "Epoch 35/100\n",
      "62/62 - 0s - loss: 0.3314\n",
      "Epoch 36/100\n",
      "62/62 - 0s - loss: 0.3257\n",
      "Epoch 37/100\n",
      "62/62 - 0s - loss: 0.3217\n",
      "Epoch 38/100\n",
      "62/62 - 0s - loss: 0.3178\n",
      "Epoch 39/100\n",
      "62/62 - 0s - loss: 0.3159\n",
      "Epoch 40/100\n",
      "62/62 - 0s - loss: 0.3175\n",
      "Epoch 41/100\n",
      "62/62 - 0s - loss: 0.3084\n",
      "Epoch 42/100\n",
      "62/62 - 0s - loss: 0.3075\n",
      "Epoch 43/100\n",
      "62/62 - 0s - loss: 0.3037\n",
      "Epoch 44/100\n",
      "62/62 - 0s - loss: 0.3059\n",
      "Epoch 45/100\n",
      "62/62 - 0s - loss: 0.2989\n",
      "Epoch 46/100\n",
      "62/62 - 0s - loss: 0.2957\n",
      "Epoch 47/100\n",
      "62/62 - 0s - loss: 0.2946\n",
      "Epoch 48/100\n",
      "62/62 - 0s - loss: 0.2912\n",
      "Epoch 49/100\n",
      "62/62 - 0s - loss: 0.2865\n",
      "Epoch 50/100\n",
      "62/62 - 0s - loss: 0.2776\n",
      "Epoch 51/100\n",
      "62/62 - 0s - loss: 0.2746\n",
      "Epoch 52/100\n",
      "62/62 - 0s - loss: 0.2727\n",
      "Epoch 53/100\n",
      "62/62 - 0s - loss: 0.2692\n",
      "Epoch 54/100\n",
      "62/62 - 0s - loss: 0.2638\n",
      "Epoch 55/100\n",
      "62/62 - 0s - loss: 0.2622\n",
      "Epoch 56/100\n",
      "62/62 - 0s - loss: 0.2551\n",
      "Epoch 57/100\n",
      "62/62 - 0s - loss: 0.2481\n",
      "Epoch 58/100\n",
      "62/62 - 0s - loss: 0.2447\n",
      "Epoch 59/100\n",
      "62/62 - 0s - loss: 0.2426\n",
      "Epoch 60/100\n",
      "62/62 - 0s - loss: 0.2356\n",
      "Epoch 61/100\n",
      "62/62 - 0s - loss: 0.2334\n",
      "Epoch 62/100\n",
      "62/62 - 0s - loss: 0.2317\n",
      "Epoch 63/100\n",
      "62/62 - 0s - loss: 0.2251\n",
      "Epoch 64/100\n",
      "62/62 - 0s - loss: 0.2148\n",
      "Epoch 65/100\n",
      "62/62 - 0s - loss: 0.2148\n",
      "Epoch 66/100\n",
      "62/62 - 0s - loss: 0.2120\n",
      "Epoch 67/100\n",
      "62/62 - 0s - loss: 0.2077\n",
      "Epoch 68/100\n",
      "62/62 - 0s - loss: 0.2120\n",
      "Epoch 69/100\n",
      "62/62 - 0s - loss: 0.2014\n",
      "Epoch 70/100\n",
      "62/62 - 0s - loss: 0.1956\n",
      "Epoch 71/100\n",
      "62/62 - 0s - loss: 0.1998\n",
      "Epoch 72/100\n",
      "62/62 - 0s - loss: 0.1893\n",
      "Epoch 73/100\n",
      "62/62 - 0s - loss: 0.1863\n",
      "Epoch 74/100\n",
      "62/62 - 0s - loss: 0.1808\n",
      "Epoch 75/100\n",
      "62/62 - 0s - loss: 0.1789\n",
      "Epoch 76/100\n",
      "62/62 - 0s - loss: 0.1756\n",
      "Epoch 77/100\n",
      "62/62 - 0s - loss: 0.1715\n",
      "Epoch 78/100\n",
      "62/62 - 0s - loss: 0.1655\n",
      "Epoch 79/100\n",
      "62/62 - 0s - loss: 0.1601\n",
      "Epoch 80/100\n",
      "62/62 - 0s - loss: 0.1586\n",
      "Epoch 81/100\n",
      "62/62 - 0s - loss: 0.1570\n",
      "Epoch 82/100\n",
      "62/62 - 0s - loss: 0.1542\n",
      "Epoch 83/100\n",
      "62/62 - 0s - loss: 0.1484\n",
      "Epoch 84/100\n",
      "62/62 - 0s - loss: 0.1436\n",
      "Epoch 85/100\n",
      "62/62 - 0s - loss: 0.1434\n",
      "Epoch 86/100\n",
      "62/62 - 0s - loss: 0.1385\n",
      "Epoch 87/100\n",
      "62/62 - 0s - loss: 0.1308\n",
      "Epoch 88/100\n",
      "62/62 - 0s - loss: 0.1311\n",
      "Epoch 89/100\n",
      "62/62 - 0s - loss: 0.1282\n",
      "Epoch 90/100\n",
      "62/62 - 0s - loss: 0.1281\n",
      "Epoch 91/100\n",
      "62/62 - 0s - loss: 0.1225\n",
      "Epoch 92/100\n",
      "62/62 - 0s - loss: 0.1202\n",
      "Epoch 93/100\n",
      "62/62 - 0s - loss: 0.1155\n",
      "Epoch 94/100\n",
      "62/62 - 0s - loss: 0.1152\n",
      "Epoch 95/100\n",
      "62/62 - 0s - loss: 0.1079\n",
      "Epoch 96/100\n",
      "62/62 - 0s - loss: 0.1065\n",
      "Epoch 97/100\n",
      "62/62 - 0s - loss: 0.1018\n",
      "Epoch 98/100\n",
      "62/62 - 0s - loss: 0.1051\n",
      "Epoch 99/100\n",
      "62/62 - 0s - loss: 0.0969\n",
      "Epoch 100/100\n",
      "62/62 - 0s - loss: 0.0978\n"
     ]
    }
   ],
   "source": [
    "history = model.fit(trainX,trainY, epochs=100, batch_size=16, verbose=2)"
   ]
  },
  {
   "cell_type": "code",
   "execution_count": 9,
   "metadata": {},
   "outputs": [
    {
     "name": "stdout",
     "output_type": "stream",
     "text": [
      "0.07637295871973038\n"
     ]
    }
   ],
   "source": [
    "trainScore = model.evaluate(trainX, trainY, verbose=0)\n",
    "print(trainScore)"
   ]
  },
  {
   "cell_type": "code",
   "execution_count": 10,
   "metadata": {},
   "outputs": [],
   "source": [
    "trainPredict = model.predict(trainX)\n",
    "testPredict= model.predict(testX)\n",
    "predicted=np.concatenate((trainPredict,testPredict),axis=0)"
   ]
  },
  {
   "cell_type": "code",
   "execution_count": 11,
   "metadata": {},
   "outputs": [
    {
     "data": {
      "image/png": "[encoded data removed]",
      "text/plain": [
       "<Figure size 432x288 with 1 Axes>"
      ]
     },
     "metadata": {
      "needs_background": "light"
     },
     "output_type": "display_data"
    }
   ],
   "source": [
    "plt.plot(x)\n",
    "plt.plot(predicted)\n",
    "plt.axvline(len(trainX), c=\"r\")\n",
    "plt.show()"
   ]
  },
  {
   "cell_type": "code",
   "execution_count": null,
   "metadata": {},
   "outputs": [],
   "source": []
  },
  {
   "cell_type": "code",
   "execution_count": null,
   "metadata": {},
   "outputs": [],
   "source": []
  },
  {
   "cell_type": "code",
   "execution_count": null,
   "metadata": {},
   "outputs": [],
   "source": []
  }
 ],
 "metadata": {
  "kernelspec": {
   "display_name": "Python 3",
   "language": "python",
   "name": "python3"
  },
  "language_info": {
   "codemirror_mode": {
    "name": "ipython",
    "version": 3
   },
   "file_extension": ".py",
   "mimetype": "text/x-python",
   "name": "python",
   "nbconvert_exporter": "python",
   "pygments_lexer": "ipython3",
   "version": "3.8.3"
  }
 },
 "nbformat": 4,
 "nbformat_minor": 2
}
